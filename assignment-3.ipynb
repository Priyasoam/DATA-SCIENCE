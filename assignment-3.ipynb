{
 "cells": [
  {
   "cell_type": "markdown",
   "id": "c0daea1c",
   "metadata": {},
   "source": [
    "# 1.Create a empty list and check its Data type"
   ]
  },
  {
   "cell_type": "code",
   "execution_count": null,
   "id": "2c6d6924",
   "metadata": {},
   "outputs": [],
   "source": [
    "a = []"
   ]
  },
  {
   "cell_type": "code",
   "execution_count": 41,
   "id": "e1b90d74",
   "metadata": {},
   "outputs": [
    {
     "data": {
      "text/plain": [
       "list"
      ]
     },
     "execution_count": 41,
     "metadata": {},
     "output_type": "execute_result"
    }
   ],
   "source": [
    "a=[]\n",
    "type(a)\n"
   ]
  },
  {
   "cell_type": "markdown",
   "id": "fdf074db",
   "metadata": {},
   "source": [
    "# 2.Create a list in which at even places string are present and at odd places integervalue is present and the length of the list is 6."
   ]
  },
  {
   "cell_type": "code",
   "execution_count": 6,
   "id": "0f7e77fd",
   "metadata": {},
   "outputs": [
    {
     "data": {
      "text/plain": [
       "6"
      ]
     },
     "execution_count": 6,
     "metadata": {},
     "output_type": "execute_result"
    }
   ],
   "source": [
    "LIST=[1,\"hi\",2,\"world\",3,\"apple\"]\n",
    "len(LIST)"
   ]
  },
  {
   "cell_type": "markdown",
   "id": "12165ed9",
   "metadata": {},
   "source": [
    "# 3.Create a list which has 6 elements and print last three elements from the list"
   ]
  },
  {
   "cell_type": "code",
   "execution_count": 11,
   "id": "43577542",
   "metadata": {},
   "outputs": [
    {
     "data": {
      "text/plain": [
       "[4, 5, 6]"
      ]
     },
     "execution_count": 11,
     "metadata": {},
     "output_type": "execute_result"
    }
   ],
   "source": [
    "A=[1,2,3,4,5,6]\n",
    "A[-3:]"
   ]
  },
  {
   "cell_type": "markdown",
   "id": "31e2d457",
   "metadata": {},
   "source": [
    "# 4.What is the output : list = [1,2,3,4,5,6,7]     list[:]=?"
   ]
  },
  {
   "cell_type": "code",
   "execution_count": 12,
   "id": "f585484a",
   "metadata": {},
   "outputs": [
    {
     "data": {
      "text/plain": [
       "[1, 2, 3, 4, 5, 6, 7]"
      ]
     },
     "execution_count": 12,
     "metadata": {},
     "output_type": "execute_result"
    }
   ],
   "source": [
    "list=[1,2,3,4,5,6,7]\n",
    "list[:]"
   ]
  },
  {
   "cell_type": "markdown",
   "id": "05033f23",
   "metadata": {},
   "source": [
    "# 5.What is the output : list = [1,2,3,4,5,6,7] Print the even places items from the list."
   ]
  },
  {
   "cell_type": "code",
   "execution_count": 19,
   "id": "be453ae1",
   "metadata": {},
   "outputs": [
    {
     "data": {
      "text/plain": [
       "[2, 4, 6]"
      ]
     },
     "execution_count": 19,
     "metadata": {},
     "output_type": "execute_result"
    }
   ],
   "source": [
    "LIST1=[1,2,3,4,5,6,7]\n",
    "LIST1[1:6:2]"
   ]
  },
  {
   "cell_type": "markdown",
   "id": "35721fd5",
   "metadata": {},
   "source": [
    "# 6.What is the output : list = [1,2,3,4,10,11,7]print 10 and 11 item from the list ."
   ]
  },
  {
   "cell_type": "code",
   "execution_count": null,
   "id": "df50e961",
   "metadata": {},
   "outputs": [],
   "source": [
    "LIST=[1,2,3,4,10,11,7]\n"
   ]
  },
  {
   "cell_type": "markdown",
   "id": "97ed8c23",
   "metadata": {},
   "source": [
    "# 7.Delete the 3 index value from the list and the print the list. list = [1, 2, 3, 4, 5, 6]  print(list)"
   ]
  },
  {
   "cell_type": "code",
   "execution_count": 22,
   "id": "33c82dd9",
   "metadata": {},
   "outputs": [
    {
     "data": {
      "text/plain": [
       "[4, 5, 6]"
      ]
     },
     "execution_count": 22,
     "metadata": {},
     "output_type": "execute_result"
    }
   ],
   "source": [
    "list=[1,2,3,4,5,6]\n",
    "list[-3:]"
   ]
  },
  {
   "cell_type": "markdown",
   "id": "e11d0cbc",
   "metadata": {},
   "source": [
    "# 8.list = [1, \"a\", 3, 4, 5, 6]. replace \"a\" by 2 in the list. What is the new list?"
   ]
  },
  {
   "cell_type": "code",
   "execution_count": 30,
   "id": "35b3022c",
   "metadata": {},
   "outputs": [
    {
     "name": "stdout",
     "output_type": "stream",
     "text": [
      "[1, '2', 3, 4, 5, 6]\n"
     ]
    }
   ],
   "source": [
    "list=[1,\"a\",3,4,5,6]\n",
    "list[1]=\"2\"\n",
    "print(list)"
   ]
  },
  {
   "cell_type": "markdown",
   "id": "7597d83e",
   "metadata": {},
   "source": [
    "# 9.list = [1, 2, 3, 4, 5, 6]by using neagtive indexing replace 5 by 'e' in the list. print(list)"
   ]
  },
  {
   "cell_type": "code",
   "execution_count": 31,
   "id": "7fed2541",
   "metadata": {},
   "outputs": [
    {
     "name": "stdout",
     "output_type": "stream",
     "text": [
      "[1, 2, 3, 4, 'e', 6]\n"
     ]
    }
   ],
   "source": [
    "LIST=[1,2,3,4,5,6]\n",
    "LIST[-2]=\"e\"\n",
    "print(LIST)"
   ]
  },
  {
   "cell_type": "markdown",
   "id": "49f7f285",
   "metadata": {},
   "source": [
    "# 10.list = [1, 2, 3, 4, 5, 6] replace 1st and 2nd index value by (89,78) print(list)"
   ]
  },
  {
   "cell_type": "code",
   "execution_count": 38,
   "id": "7fd6a30e",
   "metadata": {},
   "outputs": [
    {
     "name": "stdout",
     "output_type": "stream",
     "text": [
      "[1, '89', '78', 4, 5, 6]\n"
     ]
    }
   ],
   "source": [
    "LIST=[1,2,3,4,5,6]\n",
    "LIST[1]=\"89\"\n",
    "LIST[2]=\"78\"\n",
    "print(LIST)"
   ]
  },
  {
   "cell_type": "markdown",
   "id": "2024b291",
   "metadata": {},
   "source": [
    "# 11.Remove Science item from the list. Subject =['math', 'science', 'hindi', 'SST', 'Sanskrit']"
   ]
  },
  {
   "cell_type": "code",
   "execution_count": 39,
   "id": "9544ae4e",
   "metadata": {},
   "outputs": [
    {
     "name": "stdout",
     "output_type": "stream",
     "text": [
      "['maths', 'hindi', 'SST', 'sanskrit']\n"
     ]
    }
   ],
   "source": [
    "SUBJECT=[\"maths\",\"science\",\"hindi\",\"SST\",\"sanskrit\"]\n",
    "SUBJECT.remove(\"science\")\n",
    "print(SUBJECT)"
   ]
  }
 ],
 "metadata": {
  "kernelspec": {
   "display_name": "Python 3",
   "language": "python",
   "name": "python3"
  },
  "language_info": {
   "codemirror_mode": {
    "name": "ipython",
    "version": 3
   },
   "file_extension": ".py",
   "mimetype": "text/x-python",
   "name": "python",
   "nbconvert_exporter": "python",
   "pygments_lexer": "ipython3",
   "version": "3.8.8"
  }
 },
 "nbformat": 4,
 "nbformat_minor": 5
}
